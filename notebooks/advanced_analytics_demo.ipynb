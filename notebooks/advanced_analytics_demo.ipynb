{
  "cells": [
    {
      "cell_type": "markdown",
      "metadata": {},
      "source": [
        "# WeQuo Advanced Analytics Demo\n",
        "\n",
        "This notebook demonstrates the advanced analytics capabilities implemented in Phase 3 of WeQuo:\n",
        "\n",
        "1. **Change Point Detection** - Identifying structural breaks in time series\n",
        "2. **Cross-Correlation Analysis** - Finding relationships between series with lag analysis\n",
        "3. **Event Impact Tagging** - Attributing time series changes to known events\n",
        "4. **Explainable Analytics** - Providing human-readable insights\n",
        "\n",
        "## Setup\n"
      ]
    },
    {
      "cell_type": "code",
      "execution_count": null,
      "metadata": {},
      "outputs": [],
      "source": [
        "import sys\n",
        "import os\n",
        "sys.path.append('../src')\n",
        "\n",
        "import pandas as pd\n",
        "import numpy as np\n",
        "import matplotlib.pyplot as plt\n",
        "import seaborn as sns\n",
        "from datetime import datetime, timedelta\n",
        "\n",
        "# Import WeQuo analytics modules\n",
        "from wequo.analytics.advanced.changepoint import ChangePointDetector\n",
        "from wequo.analytics.advanced.correlation import CrossCorrelationAnalyzer\n",
        "from wequo.analytics.advanced.events import EventImpactTagger, Event\n",
        "from wequo.analytics.advanced.explainable import ExplainableAnalytics\n",
        "from wequo.analytics.core import AnalyticsEngine\n",
        "\n",
        "# Set style\n",
        "plt.style.use('seaborn-v0_8')\n",
        "sns.set_palette(\"husl\")\n",
        "\n",
        "print(\"WeQuo Advanced Analytics Demo\")\n",
        "print(\"=============================\")\n"
      ]
    }
  ],
  "metadata": {
    "language_info": {
      "name": "python"
    }
  },
  "nbformat": 4,
  "nbformat_minor": 2
}
